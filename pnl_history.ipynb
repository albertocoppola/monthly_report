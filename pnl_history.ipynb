{
 "cells": [
  {
   "cell_type": "code",
   "execution_count": null,
   "id": "1be2c7c3",
   "metadata": {},
   "outputs": [],
   "source": [
    "import pandas as pd\n",
    "import numpy as np\n",
    "import warnings\n",
    "warnings.simplefilter(action='ignore')"
   ]
  },
  {
   "cell_type": "code",
   "execution_count": 255,
   "id": "ccda04c3",
   "metadata": {},
   "outputs": [],
   "source": [
    "positions = pd.read_csv(\"portfolio_positions_exploded.csv\")\n",
    "costs = pd.read_csv(\"portfolio_costs_exploded.csv\")"
   ]
  },
  {
   "cell_type": "markdown",
   "id": "ae188382",
   "metadata": {},
   "source": [
    "Construção do PNL a nível do ativo"
   ]
  },
  {
   "cell_type": "code",
   "execution_count": null,
   "id": "ac1e5313",
   "metadata": {},
   "outputs": [],
   "source": [
    "positions['pct_exposicao'] = positions['exposure_value'] / positions['portfolio_nav']\n",
    "positions['dtd_ativo'] = positions['dtd_chg'] / positions['pct_exposicao']\n",
    "\n",
    "positions['overview_date'] = pd.to_datetime(positions['overview_date'])\n",
    "positions = positions.sort_values(['portfolio_id','instrument_name','portfolio_origem','overview_date'])\n",
    "\n",
    "positions['Year'] = positions['overview_date'].dt.year\n",
    "positions['Month'] = positions['overview_date'].dt.month\n",
    "\n",
    "# Calcula ano/mês do mês anterior\n",
    "positions['Month_after'] = positions['Month'] + 1\n",
    "positions['Year_after'] = positions['Year']\n",
    "positions.loc[positions['Month_after'] == 13, 'Month_after'] = 1\n",
    "positions.loc[positions['Month'] == 12, 'Year_after'] += 1\n",
    "\n",
    "# Tabela com último exposure_value do mês para cada grupo\n",
    "last_prev_month = (\n",
    "    positions\n",
    "    .groupby(['portfolio_id','instrument_name','portfolio_origem','Year','Month'])\n",
    "    .apply(lambda g: g.loc[g['overview_date'] == g['overview_date'].max()])\n",
    "    .reset_index(drop=True)\n",
    ")[['portfolio_id','instrument_name','portfolio_origem','Year_after','Month_after','exposure_value']]\n",
    "\n",
    "last_prev_month = last_prev_month.rename(\n",
    "    columns={'Year_after':'Year','Month_after':'Month','exposure_value':'exposure_value_prev'}\n",
    ")\n",
    "\n",
    "# Faz merge para trazer o exposure_value_prev para cada linha\n",
    "positions = positions.merge(\n",
    "    last_prev_month,\n",
    "    on=['portfolio_id','instrument_name','portfolio_origem','Year','Month'],\n",
    "    how='left'\n",
    ")\n",
    "\n",
    "# Calcula o PnL MTD pra qualquer dia:\n",
    "positions['mtd_ativo'] = (positions['exposure_value'] - positions['exposure_value_prev']) / positions['exposure_value_prev']\n",
    "positions['mtd_financeiro'] = positions['exposure_value'] - positions['exposure_value_prev']\n",
    "\n"
   ]
  },
  {
   "cell_type": "markdown",
   "id": "d88da03f",
   "metadata": {},
   "source": [
    "Construção do PNL da carteira"
   ]
  },
  {
   "cell_type": "code",
   "execution_count": null,
   "id": "be2b59b4",
   "metadata": {},
   "outputs": [],
   "source": [
    "# PnL MTD\n",
    "positions['pnl_mtd'] = positions.groupby(['portfolio_id','instrument_name','portfolio_origem', 'Year', 'Month'])['dtd_chg'].transform(\n",
    "    lambda x: ( (1 + x).cumprod() - 1 )\n",
    ")"
   ]
  },
  {
   "cell_type": "code",
   "execution_count": 276,
   "id": "a89afded",
   "metadata": {},
   "outputs": [],
   "source": [
    "costs['overview_date'] = pd.to_datetime(costs['overview_date'])\n",
    "costs['Year'] = costs['overview_date'].dt.year\n",
    "costs['Month'] = costs['overview_date'].dt.month\n",
    "\n",
    "costs = costs.sort_values(['origin_portfolio_id', 'overview_date'])\n",
    "\n",
    "# PnL MTD\n",
    "costs['pnl_mtd'] = costs.groupby(['category_name','origin_portfolio_id', 'origin_accounting_transaction_id','root_portfolio', 'Year', 'Month'])['dtd_chg'].transform(\n",
    "    lambda x: ( (1 + x).cumprod() - 1)\n",
    ")\n",
    "\n",
    "costs['pnl_ytd'] = costs.groupby(['category_name','origin_portfolio_id', 'origin_accounting_transaction_id','root_portfolio', 'Year'])['dtd_chg'].transform(\n",
    "    lambda x: ( (1 + x).cumprod() - 1)\n",
    ")\n",
    "\n"
   ]
  },
  {
   "cell_type": "code",
   "execution_count": null,
   "id": "70495a4c",
   "metadata": {},
   "outputs": [],
   "source": [
    "positions.drop(columns=['Month','Year','Month_after','Year_after','exposure_value_prev'],inplace=True)\n",
    "positions.replace([np.inf, -np.inf], 0, inplace=True)\n",
    "costs.replace([np.inf, -np.inf], 0, inplace=True)\n",
    "\n",
    "positions.to_csv(\"portfolio_positions_exploded.csv\", index=False)\n",
    "costs.to_csv(\"portfolio_costs_exploded.csv\", index=False)"
   ]
  },
  {
   "cell_type": "code",
   "execution_count": 180,
   "id": "47400231",
   "metadata": {},
   "outputs": [],
   "source": [
    "df_filtrado = costs[\n",
    "    (costs['root_portfolio'] == 1295)\n",
    "]"
   ]
  },
  {
   "cell_type": "code",
   "execution_count": 270,
   "id": "24a603dd",
   "metadata": {},
   "outputs": [],
   "source": [
    "df_filtrado = positions[\n",
    "    (positions['portfolio_id'] == 1295) \n",
    "]"
   ]
  },
  {
   "cell_type": "code",
   "execution_count": 271,
   "id": "3a35b845",
   "metadata": {},
   "outputs": [],
   "source": [
    "df_filtrado.to_clipboard()"
   ]
  }
 ],
 "metadata": {
  "kernelspec": {
   "display_name": ".venv",
   "language": "python",
   "name": "python3"
  },
  "language_info": {
   "codemirror_mode": {
    "name": "ipython",
    "version": 3
   },
   "file_extension": ".py",
   "mimetype": "text/x-python",
   "name": "python",
   "nbconvert_exporter": "python",
   "pygments_lexer": "ipython3",
   "version": "3.13.5"
  }
 },
 "nbformat": 4,
 "nbformat_minor": 5
}
