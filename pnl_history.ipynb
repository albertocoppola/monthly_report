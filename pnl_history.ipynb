{
 "cells": [
  {
   "cell_type": "code",
   "execution_count": 378,
   "id": "1be2c7c3",
   "metadata": {},
   "outputs": [],
   "source": [
    "import pandas as pd\n",
    "import numpy as np\n",
    "import warnings\n",
    "warnings.simplefilter(action='ignore')"
   ]
  },
  {
   "cell_type": "code",
   "execution_count": 379,
   "id": "ccda04c3",
   "metadata": {},
   "outputs": [],
   "source": [
    "positions = pd.read_csv(\"portfolio_positions_exploded.csv\")\n",
    "costs = pd.read_csv(\"portfolio_costs_exploded.csv\")"
   ]
  },
  {
   "cell_type": "markdown",
   "id": "ae188382",
   "metadata": {},
   "source": [
    "Construção do PNL de Posições"
   ]
  },
  {
   "cell_type": "markdown",
   "id": "2a647468",
   "metadata": {},
   "source": [
    "DTD"
   ]
  },
  {
   "cell_type": "code",
   "execution_count": 380,
   "id": "c8f5bdc3",
   "metadata": {},
   "outputs": [],
   "source": [
    "positions['overview_date'] = pd.to_datetime(positions['overview_date'])\n",
    "positions = positions.sort_values(['portfolio_id','instrument_id','portfolio_origem','overview_date'])\n",
    "\n",
    "positions['exposure_value_ontem'] = (\n",
    "    positions.groupby(['portfolio_id','instrument_id','portfolio_origem'])['exposure_value']\n",
    "    .shift(1)\n",
    ")\n",
    "\n",
    "positions['portfolio_nav_ontem'] = (\n",
    "    positions.groupby(['portfolio_id'])['portfolio_nav']\n",
    "    .shift(1)\n",
    ")\n",
    "\n",
    "positions = positions.dropna()\n",
    "\n",
    "positions['dtd_ativo_pct'] = positions['dtd_ativo_fin'] / positions['exposure_value_ontem']\n",
    "positions['dtd_carteira_pct'] = positions['dtd_ativo_fin'] / positions['portfolio_nav_ontem']"
   ]
  },
  {
   "cell_type": "markdown",
   "id": "49056f66",
   "metadata": {},
   "source": [
    "MTD"
   ]
  },
  {
   "cell_type": "code",
   "execution_count": 381,
   "id": "ac1e5313",
   "metadata": {},
   "outputs": [],
   "source": [
    "positions['Year'] = positions['overview_date'].dt.year\n",
    "positions['Month'] = positions['overview_date'].dt.month\n",
    "\n",
    "# Calcula ano/mês do mês anterior\n",
    "positions['Month_after'] = positions['Month'] + 1\n",
    "positions['Year_after'] = positions['Year']\n",
    "positions.loc[positions['Month_after'] == 13, 'Month_after'] = 1\n",
    "positions.loc[positions['Month'] == 12, 'Year_after'] += 1\n",
    "\n",
    "# Tabela com último exposure_value do mês para cada grupo\n",
    "last_prev_month = (\n",
    "    positions\n",
    "    .groupby(['portfolio_id','instrument_id','portfolio_origem','Year','Month'])\n",
    "    .apply(lambda g: g.loc[g['overview_date'] == g['overview_date'].max()])\n",
    "    .reset_index(drop=True)\n",
    ")[['portfolio_id','instrument_id','portfolio_origem','Year_after','Month_after','exposure_value']]\n",
    "\n",
    "last_prev_month = last_prev_month.rename(\n",
    "    columns={'Year_after':'Year','Month_after':'Month','exposure_value':'exposure_value_prev'}\n",
    ")\n",
    "\n",
    "# Faz merge para trazer o exposure_value_prev para cada linha\n",
    "positions = positions.merge(\n",
    "    last_prev_month,\n",
    "    on=['portfolio_id','instrument_id','portfolio_origem','Year','Month'],\n",
    "    how='left'\n",
    ")\n",
    "\n",
    "# Calcula o PnL MTD pra qualquer dia:\n",
    "positions['mtd_ativo_fin'] = positions.groupby(\n",
    "    ['portfolio_id', 'instrument_id', 'portfolio_origem', 'Year', 'Month']\n",
    ")['dtd_ativo_fin'].cumsum()\n",
    "\n",
    "positions['mtd_ativo_pct'] = positions['mtd_ativo_fin'] / positions['exposure_value_prev']\n",
    "\n",
    "positions['mtd_carteira_pct'] = positions['mtd_ativo_fin'] / positions['portfolio_nav_ontem']"
   ]
  },
  {
   "cell_type": "markdown",
   "id": "d88da03f",
   "metadata": {},
   "source": [
    "Expansão do PNL MTD para ativos que foram zerados ao longo do mês"
   ]
  },
  {
   "cell_type": "code",
   "execution_count": 382,
   "id": "be2b59b4",
   "metadata": {},
   "outputs": [],
   "source": [
    "# PnL MTD\n",
    "group_cols = ['portfolio_id','instrument_id','portfolio_origem','Year','Month']\n",
    "all_dates = positions.groupby(group_cols)['overview_date'].agg(['min', 'max']).reset_index()\n",
    "\n",
    "# Gera linhas para todos os dias do mês para cada ativo\n",
    "expanded = []\n",
    "for _, row in all_dates.iterrows():\n",
    "    year = row['Year']\n",
    "    month = row['Month']\n",
    "    filtro = (positions['overview_date'].dt.year == year) & (positions['overview_date'].dt.month == month)\n",
    "\n",
    "    # pega o último dia do mês de forma automática\n",
    "    dates = list(positions['overview_date'][filtro].drop_duplicates())\n",
    "    for date in dates:\n",
    "        expanded.append({**row, 'overview_date': date})\n",
    "\n",
    "calendar = pd.DataFrame(expanded)\n",
    "\n",
    "# Passo 2: Merge calendar com positions\n",
    "positions_full = pd.merge(calendar, positions, on=group_cols + ['overview_date'], how='left')\n",
    "\n",
    "# Passo 3: Forward fill do PnL e das outras colunas por ativo/mês\n",
    "positions_full = positions_full.sort_values(group_cols + ['overview_date'])\n",
    "positions_full['mtd_carteira_pct'] = positions_full.groupby(group_cols)['mtd_carteira_pct'].ffill()"
   ]
  },
  {
   "cell_type": "code",
   "execution_count": 383,
   "id": "52d78409",
   "metadata": {},
   "outputs": [],
   "source": [
    "# Tratamento do DF para exportação\n",
    "positions_full_filtrado = positions_full[[\n",
    "    'portfolio_id','portfolio_origem','overview_date','instrument_id',\n",
    "    'dtd_ativo_fin','dtd_ativo_pct','dtd_carteira_pct', 'mtd_ativo_fin',\n",
    "    'mtd_ativo_pct','mtd_carteira_pct']]\n",
    "positions_full_filtrado.replace([np.inf, -np.inf], 0, inplace=True)\n",
    "\n",
    "positions_full_filtrado.to_csv(\"positions_pnl_history.csv\", index=False)\n"
   ]
  },
  {
   "cell_type": "markdown",
   "id": "094be0b8",
   "metadata": {},
   "source": [
    "Construção do PNL de Custos"
   ]
  },
  {
   "cell_type": "code",
   "execution_count": 384,
   "id": "6cd6d901",
   "metadata": {},
   "outputs": [],
   "source": [
    "costs['overview_date'] = pd.to_datetime(costs['overview_date'])\n",
    "\n",
    "costs['Year'] = costs['overview_date'].dt.year\n",
    "costs['Month'] = costs['overview_date'].dt.month\n",
    "\n",
    "costs = costs.sort_values(['origin_portfolio_id', 'overview_date'])\n",
    "\n",
    "# Calcula ano/mês do mês anterior\n",
    "costs['Month_after'] = costs['Month'] + 1\n",
    "costs['Year_after'] = costs['Year']\n",
    "costs.loc[costs['Month_after'] == 13, 'Month_after'] = 1\n",
    "costs.loc[costs['Month'] == 12, 'Year_after'] += 1\n",
    "\n",
    "# Calcula o PnL MTD pra qualquer dia:\n",
    "costs['mtd_custos_fin'] = costs.groupby(\n",
    "    ['category_name','origin_portfolio_id','root_portfolio','Year','Month']\n",
    ")['dtd_custos_fin'].cumsum()\n",
    "\n",
    "costs['dtd_custos_pct'] = costs['dtd_custos_fin'] / costs['portfolio_nav_ontem']\n",
    "costs['mtd_custos_pct'] = costs['mtd_custos_fin'] / costs['portfolio_nav_ontem']"
   ]
  },
  {
   "cell_type": "code",
   "execution_count": 385,
   "id": "70495a4c",
   "metadata": {},
   "outputs": [],
   "source": [
    "costs.replace([np.inf, -np.inf], 0, inplace=True)\n",
    "costs.to_csv(\"portfolio_costs_exploded.csv\", index=False)"
   ]
  },
  {
   "cell_type": "code",
   "execution_count": 386,
   "id": "f10d16dc",
   "metadata": {},
   "outputs": [],
   "source": [
    "df_filtrado = positions_full[\n",
    "    (positions_full['portfolio_id'] == 1175)\n",
    "]\n",
    "\n",
    "df_filtrado.to_clipboard()"
   ]
  },
  {
   "cell_type": "code",
   "execution_count": 387,
   "id": "47400231",
   "metadata": {},
   "outputs": [],
   "source": [
    "df_filtrado = costs[\n",
    "    (costs['root_portfolio'] == 1247)\n",
    "]\n",
    "\n",
    "df_filtrado.to_clipboard()"
   ]
  }
 ],
 "metadata": {
  "kernelspec": {
   "display_name": ".venv",
   "language": "python",
   "name": "python3"
  },
  "language_info": {
   "codemirror_mode": {
    "name": "ipython",
    "version": 3
   },
   "file_extension": ".py",
   "mimetype": "text/x-python",
   "name": "python",
   "nbconvert_exporter": "python",
   "pygments_lexer": "ipython3",
   "version": "3.13.5"
  }
 },
 "nbformat": 4,
 "nbformat_minor": 5
}
